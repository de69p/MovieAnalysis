{
 "cells": [
  {
   "cell_type": "code",
   "id": "ed70b1c25d2f0aba",
   "metadata": {
    "collapsed": false,
    "ExecuteTime": {
     "end_time": "2024-06-12T06:39:55.458169Z",
     "start_time": "2024-06-12T06:39:54.490728Z"
    }
   },
   "source": [
    "# Import the necessary libraries\n",
    "import pandas as pd\n",
    "import matplotlib.pyplot as plt"
   ],
   "outputs": [],
   "execution_count": 1
  },
  {
   "cell_type": "code",
   "source": [
    "# Load the datasets\n",
    "movies_df = pd.read_csv('movies.csv')\n",
    "ratings_df = pd.read_csv('ratings.csv')"
   ],
   "metadata": {
    "collapsed": false,
    "ExecuteTime": {
     "end_time": "2024-06-12T06:39:55.491170Z",
     "start_time": "2024-06-12T06:39:55.459235Z"
    }
   },
   "id": "9e98f79f4dd5ae77",
   "outputs": [],
   "execution_count": 2
  },
  {
   "cell_type": "code",
   "source": [
    "# Display the first few rows of each dataframe\n",
    "movies_df.head()"
   ],
   "metadata": {
    "ExecuteTime": {
     "end_time": "2024-06-12T06:39:55.500675Z",
     "start_time": "2024-06-12T06:39:55.492083Z"
    }
   },
   "id": "4da7c4ca-1e4e-454d-a174-46d8a7002c80",
   "outputs": [
    {
     "data": {
      "text/plain": [
       "   movieId                               title  \\\n",
       "0        1                    Toy Story (1995)   \n",
       "1        2                      Jumanji (1995)   \n",
       "2        3             Grumpier Old Men (1995)   \n",
       "3        4            Waiting to Exhale (1995)   \n",
       "4        5  Father of the Bride Part II (1995)   \n",
       "\n",
       "                                        genres  \n",
       "0  Adventure|Animation|Children|Comedy|Fantasy  \n",
       "1                   Adventure|Children|Fantasy  \n",
       "2                               Comedy|Romance  \n",
       "3                         Comedy|Drama|Romance  \n",
       "4                                       Comedy  "
      ],
      "text/html": [
       "<div>\n",
       "<style scoped>\n",
       "    .dataframe tbody tr th:only-of-type {\n",
       "        vertical-align: middle;\n",
       "    }\n",
       "\n",
       "    .dataframe tbody tr th {\n",
       "        vertical-align: top;\n",
       "    }\n",
       "\n",
       "    .dataframe thead th {\n",
       "        text-align: right;\n",
       "    }\n",
       "</style>\n",
       "<table border=\"1\" class=\"dataframe\">\n",
       "  <thead>\n",
       "    <tr style=\"text-align: right;\">\n",
       "      <th></th>\n",
       "      <th>movieId</th>\n",
       "      <th>title</th>\n",
       "      <th>genres</th>\n",
       "    </tr>\n",
       "  </thead>\n",
       "  <tbody>\n",
       "    <tr>\n",
       "      <th>0</th>\n",
       "      <td>1</td>\n",
       "      <td>Toy Story (1995)</td>\n",
       "      <td>Adventure|Animation|Children|Comedy|Fantasy</td>\n",
       "    </tr>\n",
       "    <tr>\n",
       "      <th>1</th>\n",
       "      <td>2</td>\n",
       "      <td>Jumanji (1995)</td>\n",
       "      <td>Adventure|Children|Fantasy</td>\n",
       "    </tr>\n",
       "    <tr>\n",
       "      <th>2</th>\n",
       "      <td>3</td>\n",
       "      <td>Grumpier Old Men (1995)</td>\n",
       "      <td>Comedy|Romance</td>\n",
       "    </tr>\n",
       "    <tr>\n",
       "      <th>3</th>\n",
       "      <td>4</td>\n",
       "      <td>Waiting to Exhale (1995)</td>\n",
       "      <td>Comedy|Drama|Romance</td>\n",
       "    </tr>\n",
       "    <tr>\n",
       "      <th>4</th>\n",
       "      <td>5</td>\n",
       "      <td>Father of the Bride Part II (1995)</td>\n",
       "      <td>Comedy</td>\n",
       "    </tr>\n",
       "  </tbody>\n",
       "</table>\n",
       "</div>"
      ]
     },
     "execution_count": 3,
     "metadata": {},
     "output_type": "execute_result"
    }
   ],
   "execution_count": 3
  },
  {
   "cell_type": "code",
   "source": [
    "ratings_df.head()"
   ],
   "metadata": {
    "collapsed": false,
    "ExecuteTime": {
     "end_time": "2024-06-12T06:39:55.506871Z",
     "start_time": "2024-06-12T06:39:55.502362Z"
    }
   },
   "id": "98b683e6f7ce4d19",
   "outputs": [
    {
     "data": {
      "text/plain": [
       "   userId  movieId  rating  timestamp\n",
       "0       1        1     4.0  964982703\n",
       "1       1        3     4.0  964981247\n",
       "2       1        6     4.0  964982224\n",
       "3       1       47     5.0  964983815\n",
       "4       1       50     5.0  964982931"
      ],
      "text/html": [
       "<div>\n",
       "<style scoped>\n",
       "    .dataframe tbody tr th:only-of-type {\n",
       "        vertical-align: middle;\n",
       "    }\n",
       "\n",
       "    .dataframe tbody tr th {\n",
       "        vertical-align: top;\n",
       "    }\n",
       "\n",
       "    .dataframe thead th {\n",
       "        text-align: right;\n",
       "    }\n",
       "</style>\n",
       "<table border=\"1\" class=\"dataframe\">\n",
       "  <thead>\n",
       "    <tr style=\"text-align: right;\">\n",
       "      <th></th>\n",
       "      <th>userId</th>\n",
       "      <th>movieId</th>\n",
       "      <th>rating</th>\n",
       "      <th>timestamp</th>\n",
       "    </tr>\n",
       "  </thead>\n",
       "  <tbody>\n",
       "    <tr>\n",
       "      <th>0</th>\n",
       "      <td>1</td>\n",
       "      <td>1</td>\n",
       "      <td>4.0</td>\n",
       "      <td>964982703</td>\n",
       "    </tr>\n",
       "    <tr>\n",
       "      <th>1</th>\n",
       "      <td>1</td>\n",
       "      <td>3</td>\n",
       "      <td>4.0</td>\n",
       "      <td>964981247</td>\n",
       "    </tr>\n",
       "    <tr>\n",
       "      <th>2</th>\n",
       "      <td>1</td>\n",
       "      <td>6</td>\n",
       "      <td>4.0</td>\n",
       "      <td>964982224</td>\n",
       "    </tr>\n",
       "    <tr>\n",
       "      <th>3</th>\n",
       "      <td>1</td>\n",
       "      <td>47</td>\n",
       "      <td>5.0</td>\n",
       "      <td>964983815</td>\n",
       "    </tr>\n",
       "    <tr>\n",
       "      <th>4</th>\n",
       "      <td>1</td>\n",
       "      <td>50</td>\n",
       "      <td>5.0</td>\n",
       "      <td>964982931</td>\n",
       "    </tr>\n",
       "  </tbody>\n",
       "</table>\n",
       "</div>"
      ]
     },
     "execution_count": 4,
     "metadata": {},
     "output_type": "execute_result"
    }
   ],
   "execution_count": 4
  },
  {
   "cell_type": "markdown",
   "source": [
    "## 1. How many movies has a user with id 2 watched?"
   ],
   "metadata": {
    "collapsed": false
   },
   "id": "c83bd53ccd3c0a8b"
  },
  {
   "cell_type": "code",
   "source": [
    "# Filtering data for user 2\n",
    "user_2_ratings = ratings_df[ratings_df['userId'] == 2]\n",
    "\n",
    "# Count how many movies user 2 has watched\n",
    "num_movies_watched_by_user_2 = user_2_ratings.shape[0]\n",
    "\n",
    "# Plotting the distribution of their ratings\n",
    "rating_counts = user_2_ratings['rating'].value_counts().sort_index()"
   ],
   "metadata": {
    "collapsed": false,
    "ExecuteTime": {
     "end_time": "2024-06-12T06:39:55.513946Z",
     "start_time": "2024-06-12T06:39:55.507617Z"
    }
   },
   "id": "51199698c2408b87",
   "outputs": [],
   "execution_count": 5
  },
  {
   "cell_type": "markdown",
   "source": "## 2. Plot a bar chart of their movie ratings",
   "metadata": {
    "collapsed": false
   },
   "id": "187e2089f270ec6b"
  },
  {
   "cell_type": "code",
   "source": [
    "# Plotting the bar chart\n",
    "plt.figure(figsize=(10, 6))\n",
    "rating_counts.plot(kind='bar', color='lightgreen')\n",
    "plt.title('Distribution of Ratings by User 2')\n",
    "plt.xlabel('Ratings')\n",
    "plt.ylabel('Number of Movies')\n",
    "plt.xticks(rotation=0)\n",
    "plt.grid(axis='y')\n",
    "plt.show()"
   ],
   "metadata": {
    "collapsed": false,
    "ExecuteTime": {
     "end_time": "2024-06-12T06:39:55.628409Z",
     "start_time": "2024-06-12T06:39:55.514659Z"
    }
   },
   "id": "c70420703ed99e73",
   "outputs": [
    {
     "data": {
      "text/plain": [
       "<Figure size 1000x600 with 1 Axes>"
      ],
      "image/png": "[encoded data removed]"
     },
     "metadata": {},
     "output_type": "display_data"
    }
   ],
   "execution_count": 6
  },
  {
   "cell_type": "code",
   "source": [
    "print(\"Number of movies viewed by user 2:\", num_movies_watched_by_user_2)"
   ],
   "metadata": {
    "collapsed": false,
    "ExecuteTime": {
     "end_time": "2024-06-12T06:39:55.631882Z",
     "start_time": "2024-06-12T06:39:55.629351Z"
    }
   },
   "id": "5ee55e528549f6e8",
   "outputs": [
    {
     "name": "stdout",
     "output_type": "stream",
     "text": [
      "Number of movies viewed by user 2: 29\n"
     ]
    }
   ],
   "execution_count": 7
  },
  {
   "cell_type": "code",
   "source": [
    "rating_counts_df = rating_counts.reset_index()\n",
    "rating_counts_df.columns = ['rating', 'count']\n",
    "\n",
    "print(\"Number of movies viewed by user 2 and their rating:\")\n",
    "rating_counts_df"
   ],
   "metadata": {
    "collapsed": false,
    "ExecuteTime": {
     "end_time": "2024-06-12T06:39:55.637744Z",
     "start_time": "2024-06-12T06:39:55.632805Z"
    }
   },
   "id": "552bc58546c1f512",
   "outputs": [
    {
     "name": "stdout",
     "output_type": "stream",
     "text": [
      "Number of movies viewed by user 2 and their rating:\n"
     ]
    },
    {
     "data": {
      "text/plain": [
       "   rating  count\n",
       "0     2.0      1\n",
       "1     2.5      1\n",
       "2     3.0      4\n",
       "3     3.5      4\n",
       "4     4.0      9\n",
       "5     4.5      4\n",
       "6     5.0      6"
      ],
      "text/html": [
       "<div>\n",
       "<style scoped>\n",
       "    .dataframe tbody tr th:only-of-type {\n",
       "        vertical-align: middle;\n",
       "    }\n",
       "\n",
       "    .dataframe tbody tr th {\n",
       "        vertical-align: top;\n",
       "    }\n",
       "\n",
       "    .dataframe thead th {\n",
       "        text-align: right;\n",
       "    }\n",
       "</style>\n",
       "<table border=\"1\" class=\"dataframe\">\n",
       "  <thead>\n",
       "    <tr style=\"text-align: right;\">\n",
       "      <th></th>\n",
       "      <th>rating</th>\n",
       "      <th>count</th>\n",
       "    </tr>\n",
       "  </thead>\n",
       "  <tbody>\n",
       "    <tr>\n",
       "      <th>0</th>\n",
       "      <td>2.0</td>\n",
       "      <td>1</td>\n",
       "    </tr>\n",
       "    <tr>\n",
       "      <th>1</th>\n",
       "      <td>2.5</td>\n",
       "      <td>1</td>\n",
       "    </tr>\n",
       "    <tr>\n",
       "      <th>2</th>\n",
       "      <td>3.0</td>\n",
       "      <td>4</td>\n",
       "    </tr>\n",
       "    <tr>\n",
       "      <th>3</th>\n",
       "      <td>3.5</td>\n",
       "      <td>4</td>\n",
       "    </tr>\n",
       "    <tr>\n",
       "      <th>4</th>\n",
       "      <td>4.0</td>\n",
       "      <td>9</td>\n",
       "    </tr>\n",
       "    <tr>\n",
       "      <th>5</th>\n",
       "      <td>4.5</td>\n",
       "      <td>4</td>\n",
       "    </tr>\n",
       "    <tr>\n",
       "      <th>6</th>\n",
       "      <td>5.0</td>\n",
       "      <td>6</td>\n",
       "    </tr>\n",
       "  </tbody>\n",
       "</table>\n",
       "</div>"
      ]
     },
     "execution_count": 8,
     "metadata": {},
     "output_type": "execute_result"
    }
   ],
   "execution_count": 8
  },
  {
   "cell_type": "markdown",
   "source": [],
   "metadata": {
    "collapsed": false
   },
   "id": "5d21509fed3ed5fe"
  },
  {
   "cell_type": "markdown",
   "source": "## 3. What are some of user 2's top movies?",
   "metadata": {
    "collapsed": false
   },
   "id": "6c0f98fe90a4c0d0"
  },
  {
   "cell_type": "code",
   "source": [
    "# Get highly-rated movies by User 2\n",
    "top_rated_movies_user_2 = user_2_ratings[user_2_ratings['rating'] >= 4.5]\n",
    "\n",
    "# Get movie titles\n",
    "top_rated_movies_user_2 = top_rated_movies_user_2.merge(movies_df, on='movieId', how='left')\n",
    "\n",
    "# Arrange and show data\n",
    "top_rated_movies_user_2 = top_rated_movies_user_2[['movieId', 'title', 'rating']]\n",
    "top_rated_movies_user_2.sort_values(by='rating', ascending=False)"
   ],
   "metadata": {
    "collapsed": false,
    "ExecuteTime": {
     "end_time": "2024-06-12T06:39:55.651741Z",
     "start_time": "2024-06-12T06:39:55.638744Z"
    }
   },
   "id": "5a62c27c09290eb1",
   "outputs": [
    {
     "data": {
      "text/plain": [
       "   movieId                                              title  rating\n",
       "2    60756                               Step Brothers (2008)     5.0\n",
       "5    80906                                  Inside Job (2010)     5.0\n",
       "6    89774                                     Warrior (2011)     5.0\n",
       "7   106782                    Wolf of Wall Street, The (2013)     5.0\n",
       "8   122882                          Mad Max: Fury Road (2015)     5.0\n",
       "9   131724  The Jinx: The Life and Deaths of Robert Durst ...     5.0\n",
       "0     1704                           Good Will Hunting (1997)     4.5\n",
       "1    58559                            Dark Knight, The (2008)     4.5\n",
       "3    68157                        Inglourious Basterds (2009)     4.5\n",
       "4    80489                                   Town, The (2010)     4.5"
      ],
      "text/html": [
       "<div>\n",
       "<style scoped>\n",
       "    .dataframe tbody tr th:only-of-type {\n",
       "        vertical-align: middle;\n",
       "    }\n",
       "\n",
       "    .dataframe tbody tr th {\n",
       "        vertical-align: top;\n",
       "    }\n",
       "\n",
       "    .dataframe thead th {\n",
       "        text-align: right;\n",
       "    }\n",
       "</style>\n",
       "<table border=\"1\" class=\"dataframe\">\n",
       "  <thead>\n",
       "    <tr style=\"text-align: right;\">\n",
       "      <th></th>\n",
       "      <th>movieId</th>\n",
       "      <th>title</th>\n",
       "      <th>rating</th>\n",
       "    </tr>\n",
       "  </thead>\n",
       "  <tbody>\n",
       "    <tr>\n",
       "      <th>2</th>\n",
       "      <td>60756</td>\n",
       "      <td>Step Brothers (2008)</td>\n",
       "      <td>5.0</td>\n",
       "    </tr>\n",
       "    <tr>\n",
       "      <th>5</th>\n",
       "      <td>80906</td>\n",
       "      <td>Inside Job (2010)</td>\n",
       "      <td>5.0</td>\n",
       "    </tr>\n",
       "    <tr>\n",
       "      <th>6</th>\n",
       "      <td>89774</td>\n",
       "      <td>Warrior (2011)</td>\n",
       "      <td>5.0</td>\n",
       "    </tr>\n",
       "    <tr>\n",
       "      <th>7</th>\n",
       "      <td>106782</td>\n",
       "      <td>Wolf of Wall Street, The (2013)</td>\n",
       "      <td>5.0</td>\n",
       "    </tr>\n",
       "    <tr>\n",
       "      <th>8</th>\n",
       "      <td>122882</td>\n",
       "      <td>Mad Max: Fury Road (2015)</td>\n",
       "      <td>5.0</td>\n",
       "    </tr>\n",
       "    <tr>\n",
       "      <th>9</th>\n",
       "      <td>131724</td>\n",
       "      <td>The Jinx: The Life and Deaths of Robert Durst ...</td>\n",
       "      <td>5.0</td>\n",
       "    </tr>\n",
       "    <tr>\n",
       "      <th>0</th>\n",
       "      <td>1704</td>\n",
       "      <td>Good Will Hunting (1997)</td>\n",
       "      <td>4.5</td>\n",
       "    </tr>\n",
       "    <tr>\n",
       "      <th>1</th>\n",
       "      <td>58559</td>\n",
       "      <td>Dark Knight, The (2008)</td>\n",
       "      <td>4.5</td>\n",
       "    </tr>\n",
       "    <tr>\n",
       "      <th>3</th>\n",
       "      <td>68157</td>\n",
       "      <td>Inglourious Basterds (2009)</td>\n",
       "      <td>4.5</td>\n",
       "    </tr>\n",
       "    <tr>\n",
       "      <th>4</th>\n",
       "      <td>80489</td>\n",
       "      <td>Town, The (2010)</td>\n",
       "      <td>4.5</td>\n",
       "    </tr>\n",
       "  </tbody>\n",
       "</table>\n",
       "</div>"
      ]
     },
     "execution_count": 9,
     "metadata": {},
     "output_type": "execute_result"
    }
   ],
   "execution_count": 9
  },
  {
   "cell_type": "markdown",
   "source": [],
   "metadata": {
    "collapsed": false
   },
   "id": "170b84c621bc3a24"
  },
  {
   "cell_type": "markdown",
   "source": "## 4. Find the most similar user in the movielens dataset to user 2 using at least 2 distance metrics.",
   "metadata": {
    "collapsed": false
   },
   "id": "67294ccefa81efd6"
  },
  {
   "cell_type": "code",
   "source": [
    "# Import the necessary libraries\n",
    "from sklearn.metrics.pairwise import cosine_similarity\n",
    "from scipy.spatial.distance import euclidean, cityblock"
   ],
   "metadata": {
    "collapsed": false,
    "ExecuteTime": {
     "end_time": "2024-06-12T06:39:56.762641Z",
     "start_time": "2024-06-12T06:39:55.653678Z"
    }
   },
   "id": "801f00ec4732e3a2",
   "outputs": [],
   "execution_count": 10
  },
  {
   "cell_type": "code",
   "source": [
    "# Fill missing values with 0 for unrated movies\n",
    "user_item_matrix = ratings_df.pivot_table(index='userId', columns='movieId', values='rating', fill_value=0)\n",
    "\n",
    "# Extract user 2's ratings\n",
    "user_2_vector = user_item_matrix.loc[2].values\n",
    "\n",
    "# Compute the metrics \n",
    "compute_metrics = lambda user_vector, matrix: pd.DataFrame({\n",
    "    'userId': matrix.index,\n",
    "    'cosine_similarity': cosine_similarity([user_vector], matrix).flatten(),\n",
    "    'euclidean_distance': [euclidean(user_vector, matrix.loc[user].values) for user in matrix.index],\n",
    "    'cityblock_distance': [cityblock(user_vector, matrix.loc[user].values) for user in matrix.index]\n",
    "})\n",
    "\n",
    "# Compute the metrics\n",
    "similarity_df = compute_metrics(user_2_vector, user_item_matrix)\n",
    "\n",
    "# Find the most similar users excluding user 2\n",
    "most_similar_user_cosine = similarity_df[similarity_df['userId'] != 2].nlargest(1, 'cosine_similarity')[['userId', 'cosine_similarity']]\n",
    "most_similar_user_euclidean = similarity_df[similarity_df['userId'] != 2].nsmallest(1, 'euclidean_distance')[['userId', 'euclidean_distance']]\n",
    "most_similar_user_cityblock = similarity_df[similarity_df['userId'] != 2].nsmallest(1, 'cityblock_distance')[['userId', 'cityblock_distance']]"
   ],
   "metadata": {
    "collapsed": false,
    "ExecuteTime": {
     "end_time": "2024-06-12T06:40:00.317901Z",
     "start_time": "2024-06-12T06:39:56.763361Z"
    }
   },
   "id": "464fee2cbcf5eed1",
   "outputs": [],
   "execution_count": 11
  },
  {
   "cell_type": "code",
   "source": [
    "print(\"Most Similar User to User 2 (Cosine Similarity):\")\n",
    "most_similar_user_cosine"
   ],
   "metadata": {
    "collapsed": false,
    "ExecuteTime": {
     "end_time": "2024-06-12T06:40:00.322329Z",
     "start_time": "2024-06-12T06:40:00.318676Z"
    }
   },
   "id": "786adc5adac71fae",
   "outputs": [
    {
     "name": "stdout",
     "output_type": "stream",
     "text": [
      "Most Similar User to User 2 (Cosine Similarity):\n"
     ]
    },
    {
     "data": {
      "text/plain": [
       "     userId  cosine_similarity\n",
       "365     366           0.300074"
      ],
      "text/html": [
       "<div>\n",
       "<style scoped>\n",
       "    .dataframe tbody tr th:only-of-type {\n",
       "        vertical-align: middle;\n",
       "    }\n",
       "\n",
       "    .dataframe tbody tr th {\n",
       "        vertical-align: top;\n",
       "    }\n",
       "\n",
       "    .dataframe thead th {\n",
       "        text-align: right;\n",
       "    }\n",
       "</style>\n",
       "<table border=\"1\" class=\"dataframe\">\n",
       "  <thead>\n",
       "    <tr style=\"text-align: right;\">\n",
       "      <th></th>\n",
       "      <th>userId</th>\n",
       "      <th>cosine_similarity</th>\n",
       "    </tr>\n",
       "  </thead>\n",
       "  <tbody>\n",
       "    <tr>\n",
       "      <th>365</th>\n",
       "      <td>366</td>\n",
       "      <td>0.300074</td>\n",
       "    </tr>\n",
       "  </tbody>\n",
       "</table>\n",
       "</div>"
      ]
     },
     "execution_count": 12,
     "metadata": {},
     "output_type": "execute_result"
    }
   ],
   "execution_count": 12
  },
  {
   "cell_type": "code",
   "source": [
    "print(\"Most Similar User to User 2 (Euclidean Distance):\")\n",
    "most_similar_user_euclidean"
   ],
   "metadata": {
    "collapsed": false,
    "ExecuteTime": {
     "end_time": "2024-06-12T06:40:00.326434Z",
     "start_time": "2024-06-12T06:40:00.323125Z"
    }
   },
   "id": "e18d7e44832c5641",
   "outputs": [
    {
     "name": "stdout",
     "output_type": "stream",
     "text": [
      "Most Similar User to User 2 (Euclidean Distance):\n"
     ]
    },
    {
     "data": {
      "text/plain": [
       "     userId  euclidean_distance\n",
       "441     442           22.627417"
      ],
      "text/html": [
       "<div>\n",
       "<style scoped>\n",
       "    .dataframe tbody tr th:only-of-type {\n",
       "        vertical-align: middle;\n",
       "    }\n",
       "\n",
       "    .dataframe tbody tr th {\n",
       "        vertical-align: top;\n",
       "    }\n",
       "\n",
       "    .dataframe thead th {\n",
       "        text-align: right;\n",
       "    }\n",
       "</style>\n",
       "<table border=\"1\" class=\"dataframe\">\n",
       "  <thead>\n",
       "    <tr style=\"text-align: right;\">\n",
       "      <th></th>\n",
       "      <th>userId</th>\n",
       "      <th>euclidean_distance</th>\n",
       "    </tr>\n",
       "  </thead>\n",
       "  <tbody>\n",
       "    <tr>\n",
       "      <th>441</th>\n",
       "      <td>442</td>\n",
       "      <td>22.627417</td>\n",
       "    </tr>\n",
       "  </tbody>\n",
       "</table>\n",
       "</div>"
      ]
     },
     "execution_count": 13,
     "metadata": {},
     "output_type": "execute_result"
    }
   ],
   "execution_count": 13
  },
  {
   "cell_type": "code",
   "source": [
    "print(\"Most Similar User to User 2 (Cityblock Distance):\")\n",
    "most_similar_user_cityblock"
   ],
   "metadata": {
    "collapsed": false,
    "ExecuteTime": {
     "end_time": "2024-06-12T06:40:00.330530Z",
     "start_time": "2024-06-12T06:40:00.327371Z"
    }
   },
   "id": "b0f03af48c89df41",
   "outputs": [
    {
     "name": "stdout",
     "output_type": "stream",
     "text": [
      "Most Similar User to User 2 (Cityblock Distance):\n"
     ]
    },
    {
     "data": {
      "text/plain": [
       "     userId  cityblock_distance\n",
       "441     442               140.0"
      ],
      "text/html": [
       "<div>\n",
       "<style scoped>\n",
       "    .dataframe tbody tr th:only-of-type {\n",
       "        vertical-align: middle;\n",
       "    }\n",
       "\n",
       "    .dataframe tbody tr th {\n",
       "        vertical-align: top;\n",
       "    }\n",
       "\n",
       "    .dataframe thead th {\n",
       "        text-align: right;\n",
       "    }\n",
       "</style>\n",
       "<table border=\"1\" class=\"dataframe\">\n",
       "  <thead>\n",
       "    <tr style=\"text-align: right;\">\n",
       "      <th></th>\n",
       "      <th>userId</th>\n",
       "      <th>cityblock_distance</th>\n",
       "    </tr>\n",
       "  </thead>\n",
       "  <tbody>\n",
       "    <tr>\n",
       "      <th>441</th>\n",
       "      <td>442</td>\n",
       "      <td>140.0</td>\n",
       "    </tr>\n",
       "  </tbody>\n",
       "</table>\n",
       "</div>"
      ]
     },
     "execution_count": 14,
     "metadata": {},
     "output_type": "execute_result"
    }
   ],
   "execution_count": 14
  },
  {
   "cell_type": "markdown",
   "source": [
    "## 5. Recommend a few movies for user 2 using similarity metrics."
   ],
   "metadata": {
    "collapsed": false
   },
   "id": "314a85c698c66a22"
  },
  {
   "cell_type": "code",
   "source": [
    "# Function that recommends movies to a user based on another similar user.\n",
    "def recommend_movies(similar_user_id, user_ratings, all_ratings, movies_data, num_recommendations=5):\n",
    "    # Get top-rated movies by the similar user\n",
    "    similar_user_top_movies = all_ratings[(all_ratings['userId'] == similar_user_id) & (all_ratings['rating'] >= 4.5)]\n",
    "    \n",
    "    # Exclude movies already rated by the user\n",
    "    recommendations = similar_user_top_movies[~similar_user_top_movies['movieId'].isin(user_ratings['movieId'])]\n",
    "    \n",
    "    # Merge with the movies data to get titles\n",
    "    recommendations = recommendations.merge(movies_data, on='movieId', how='left')\n",
    "    \n",
    "    # Return top N recommendations\n",
    "    return recommendations[['movieId', 'title', 'rating']].head(num_recommendations)\n",
    "\n",
    "# Get recommendations for user 2 from their most similar user (User 366)\n",
    "user_2_recommendations = recommend_movies(366, user_2_ratings, ratings_df, movies_df)"
   ],
   "metadata": {
    "collapsed": false,
    "ExecuteTime": {
     "end_time": "2024-06-12T06:40:00.337322Z",
     "start_time": "2024-06-12T06:40:00.331254Z"
    }
   },
   "id": "ff8f149d71c7418e",
   "outputs": [],
   "execution_count": 15
  },
  {
   "cell_type": "code",
   "source": [
    "print(\"Recommended movies for the user 2:\")\n",
    "user_2_recommendations"
   ],
   "metadata": {
    "collapsed": false,
    "ExecuteTime": {
     "end_time": "2024-06-12T06:40:00.342111Z",
     "start_time": "2024-06-12T06:40:00.338111Z"
    }
   },
   "id": "f566f542632b4f4a",
   "outputs": [
    {
     "name": "stdout",
     "output_type": "stream",
     "text": [
      "Recommended movies for the user 2:\n"
     ]
    },
    {
     "data": {
      "text/plain": [
       "   movieId                                              title  rating\n",
       "0     1089                              Reservoir Dogs (1992)     5.0\n",
       "1     2959                                  Fight Club (1999)     4.5\n",
       "2     4993  Lord of the Rings: The Fellowship of the Ring,...     4.5\n",
       "3     7153  Lord of the Rings: The Return of the King, The...     4.5\n",
       "4     8368    Harry Potter and the Prisoner of Azkaban (2004)     4.5"
      ],
      "text/html": [
       "<div>\n",
       "<style scoped>\n",
       "    .dataframe tbody tr th:only-of-type {\n",
       "        vertical-align: middle;\n",
       "    }\n",
       "\n",
       "    .dataframe tbody tr th {\n",
       "        vertical-align: top;\n",
       "    }\n",
       "\n",
       "    .dataframe thead th {\n",
       "        text-align: right;\n",
       "    }\n",
       "</style>\n",
       "<table border=\"1\" class=\"dataframe\">\n",
       "  <thead>\n",
       "    <tr style=\"text-align: right;\">\n",
       "      <th></th>\n",
       "      <th>movieId</th>\n",
       "      <th>title</th>\n",
       "      <th>rating</th>\n",
       "    </tr>\n",
       "  </thead>\n",
       "  <tbody>\n",
       "    <tr>\n",
       "      <th>0</th>\n",
       "      <td>1089</td>\n",
       "      <td>Reservoir Dogs (1992)</td>\n",
       "      <td>5.0</td>\n",
       "    </tr>\n",
       "    <tr>\n",
       "      <th>1</th>\n",
       "      <td>2959</td>\n",
       "      <td>Fight Club (1999)</td>\n",
       "      <td>4.5</td>\n",
       "    </tr>\n",
       "    <tr>\n",
       "      <th>2</th>\n",
       "      <td>4993</td>\n",
       "      <td>Lord of the Rings: The Fellowship of the Ring,...</td>\n",
       "      <td>4.5</td>\n",
       "    </tr>\n",
       "    <tr>\n",
       "      <th>3</th>\n",
       "      <td>7153</td>\n",
       "      <td>Lord of the Rings: The Return of the King, The...</td>\n",
       "      <td>4.5</td>\n",
       "    </tr>\n",
       "    <tr>\n",
       "      <th>4</th>\n",
       "      <td>8368</td>\n",
       "      <td>Harry Potter and the Prisoner of Azkaban (2004)</td>\n",
       "      <td>4.5</td>\n",
       "    </tr>\n",
       "  </tbody>\n",
       "</table>\n",
       "</div>"
      ]
     },
     "execution_count": 16,
     "metadata": {},
     "output_type": "execute_result"
    }
   ],
   "execution_count": 16
  },
  {
   "cell_type": "markdown",
   "id": "43c62d79",
   "metadata": {},
   "source": [
    "# Analysis and Summary\n",
    "\n",
    "## Movie Watching Habits and Preferences of User 2\n",
    "\n",
    "User 2 saw a total of 29 movies, with a predilection for films rated 3.0 to 5.0, with the majority rated 4.0. Their top-rated films are from a variety of genres, including drama, action, and documentaries, reflecting a wide range of interests.\n",
    "\n",
    "## Similarity Metrics and Recommendations\n",
    "\n",
    "**Cosine Similarity:** Selected for its efficacy in high-dimensional spaces and its emphasis on the angle between rating vectors rather than their magnitudes. It found that User 366 was most similar to User 2.\n",
    "\n",
    "**Euclidean and City Block Distances:** These distances measure direct line and block-by-block distances in rating space, respectively. Both identified User 442 as the closest to User 2, although they typically work best in lower-dimensional spaces.\n",
    "\n",
    "## Recommendations for User 2\n",
    "\n",
    "A number of films, including well-known series like \"Harry Potter\" and \"Lord of the Rings,\" as well as critically acclaimed pictures like \"Reservoir Dogs,\" were suggested based on User 366's choices. These suggestions are in line with User 2's evident preferences for a wide range of genres and well regarded movies.\n",
    "\n",
    "## Conclusion\n",
    "\n",
    "The combination of cosine similarity (angle-based) and Euclidean/City Block distances (magnitude-based) gives a full picture of user similarities. These metrics-derived recommendations are fair, and they are consistent with User 2's previously defined preferences. This method implies that individuals with similar likes would evaluate movies similarly, which is a basic concept of collaborative filtering in recommender systems."
   ]
  },
  {
   "cell_type": "markdown",
   "id": "9d6b7d48",
   "metadata": {},
   "source": [
    "For both parts of the assignment, write a short analysis and summary of what you did, the results, and the significance. Do this in a markdown cell here at the bottom, like this one."
   ]
  }
 ],
 "metadata": {
  "kernelspec": {
   "display_name": "Python 3 (ipykernel)",
   "language": "python",
   "name": "python3"
  },
  "language_info": {
   "codemirror_mode": {
    "name": "ipython",
    "version": 3
   },
   "file_extension": ".py",
   "mimetype": "text/x-python",
   "name": "python",
   "nbconvert_exporter": "python",
   "pygments_lexer": "ipython3",
   "version": "3.11.5"
  }
 },
 "nbformat": 4,
 "nbformat_minor": 5
}
